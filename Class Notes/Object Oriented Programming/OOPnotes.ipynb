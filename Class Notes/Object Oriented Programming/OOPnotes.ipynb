{
 "cells": [
  {
   "cell_type": "markdown",
   "id": "175b12b3",
   "metadata": {},
   "source": [
    "## @ClassMethod"
   ]
  },
  {
   "cell_type": "code",
   "execution_count": 25,
   "id": "ac38d9df",
   "metadata": {},
   "outputs": [
    {
     "name": "stdout",
     "output_type": "stream",
     "text": [
      "Harry is in Slytherin\n"
     ]
    }
   ],
   "source": [
    "import random\n",
    "\n",
    "class Hat:\n",
    "\n",
    "    houses = [\"Gryffindor\", \"Hufflepuff\", \"Ravenclaw\", \"Slytherin\"]\n",
    "\n",
    "    @classmethod\n",
    "    def sort(cls, name):\n",
    "        print(name, \"is in\", random.choice(cls.houses))\n",
    "\n",
    "\n",
    "Hat.sort(\"Harry\")\n",
    "\n",
    "#Dont change based off the object are global to the entire class thus global to every object"
   ]
  },
  {
   "cell_type": "markdown",
   "id": "24d86d14",
   "metadata": {},
   "source": [
    "## Simplfy Student.py"
   ]
  },
  {
   "cell_type": "code",
   "execution_count": 28,
   "id": "8e4b9122",
   "metadata": {},
   "outputs": [
    {
     "name": "stdout",
     "output_type": "stream",
     "text": [
      "Harry is from Gryffindor.\n"
     ]
    }
   ],
   "source": [
    "#get a student by a class method so that you dont have to create a student object first\n",
    "\n",
    "class Student:\n",
    "    def __init__(self, name, house):\n",
    "        if not name:\n",
    "            raise ValueError(\"Missing Name\")\n",
    "           \n",
    "        self.name = name \n",
    "        self.house = house \n",
    "\n",
    "\n",
    "    def __str__(self):\n",
    "        return f\"{self.name} is from {self.house}.\"\n",
    "    \n",
    "    @classmethod\n",
    "    def get(cls):\n",
    "        name = input(\"Name: \")\n",
    "        house = input(\"House: \")\n",
    "        return cls(name, house)\n",
    "\n",
    "\n",
    "def main():\n",
    "    student = Student.get()\n",
    "    print(student)\n",
    "\n",
    "\n",
    "main()"
   ]
  },
  {
   "cell_type": "markdown",
   "id": "c1e72d8e",
   "metadata": {},
   "source": [
    "## Inheritance"
   ]
  },
  {
   "cell_type": "code",
   "execution_count": null,
   "id": "dec0f4c1",
   "metadata": {},
   "outputs": [],
   "source": [
    "#Borrow methods or variables from another class if they have commonalities\n",
    "#Were taking name for both proffessor and student perhaps we could deal with this at once\n",
    "#Also error checking could be handled in one place and be reused \n",
    "class Wizard:\n",
    "    def __init__(self, name):\n",
    "        if not name:\n",
    "            raise ValueError(\"Missing naem\")\n",
    "        self.name = name\n",
    "\n",
    "        ...\n",
    "\n",
    "\n",
    "class Student:\n",
    "    def __init__(self, name, house):\n",
    "        self.name = name\n",
    "        self.house = house\n",
    "        \n",
    "        ...\n",
    "    \n",
    "class Proffesor:\n",
    "    def __init__(self, name, subject):\n",
    "        self.name = name\n",
    "        self.subject = subject\n",
    "\n",
    "        ..."
   ]
  },
  {
   "cell_type": "code",
   "execution_count": null,
   "id": "4da0d840",
   "metadata": {},
   "outputs": [],
   "source": [
    "#putting wizard in parentheses it says that they inhereit from Wizard\n",
    "#super accesses the super class in this case wizard\n",
    "#wizard now takes care of name assignemnt for everyone who is a wizard including error checking\n",
    "\n",
    "class Wizard:\n",
    "    def __init__(self, name):\n",
    "        if not name:\n",
    "            raise ValueError(\"Missing naem\")\n",
    "        self.name = name\n",
    "\n",
    "        ...\n",
    "\n",
    "\n",
    "class Student(Wizard):\n",
    "    def __init__(self, name, house):\n",
    "        super().__init__(name)\n",
    "        self.house = house\n",
    "        \n",
    "        ...\n",
    "    \n",
    "class Proffesor(Wizard):\n",
    "    def __init__(self, name, subject):\n",
    "        super().__init__(name)\n",
    "        self.subject = subject\n",
    "\n",
    "        ...\n",
    "\n",
    "\n",
    "student = Student(\"Harry\", \"Gryffindor\")\n",
    "professor = Professor(\"Severus\", \"Defense the Dark Arts\")\n",
    "wizard = Wizard(\"Bob\")"
   ]
  },
  {
   "cell_type": "markdown",
   "id": "3f827445",
   "metadata": {},
   "source": [
    "## Operator Overloading"
   ]
  },
  {
   "cell_type": "code",
   "execution_count": null,
   "id": "d984a663",
   "metadata": {},
   "outputs": [
    {
     "name": "stdout",
     "output_type": "stream",
     "text": [
      "This vault has 100 galleons, 50 sickles, and 25 knuts\n",
      "This vault has 25 galleons, 50 sickles, and 100 knuts\n",
      "This vault has 125 galleons, 100 sickles, and 125 knuts\n"
     ]
    }
   ],
   "source": [
    "# Think using plus to concatenate to a string\n",
    "# This is called vault.py\n",
    "#initializing with zero means the user doesnt have to provide them\n",
    "\n",
    "class Vault:\n",
    "    def __init__(self, galleons=0, sickles=0, knuts=0):\n",
    "        self.galleons = galleons\n",
    "        self.sickles = sickles\n",
    "        self.knuts = knuts\n",
    "\n",
    "    def __str__(self):\n",
    "        return f\"This vault has {self.galleons} galleons, {self.sickles} sickles, and {self.knuts} knuts\"\n",
    "\n",
    "\n",
    "potter = Vault(100, 50, 25)\n",
    "print(potter)\n",
    "\n",
    "weasley = Vault(25, 50, 100)\n",
    "print(weasley)\n",
    "\n",
    "galleons = potter.galleons + weasley.galleons\n",
    "sickles = potter.sickles + weasley.sickles\n",
    "knuts = potter.knuts + weasley.knuts\n",
    "\n",
    "total = Vault(galleons, sickles, knuts)\n",
    "print(total)\n",
    "\n",
    "#But how do we do potter + weasley. We overload. objec __add__(self, other) lookin the documentation\n",
    "#self represents the left side of the + and other represents the right \n",
    "\n"
   ]
  },
  {
   "cell_type": "code",
   "execution_count": null,
   "id": "714ff592",
   "metadata": {},
   "outputs": [
    {
     "name": "stdout",
     "output_type": "stream",
     "text": [
      "This vault has 100 galleons, 50 sickles, and 25 knuts\n",
      "This vault has 25 galleons, 50 sickles, and 100 knuts\n",
      "This vault has 125 galleons, 100 sickles, and 125 knuts\n"
     ]
    }
   ],
   "source": [
    "class Vault:\n",
    "    def __init__(self, galleons=0, sickles=0, knuts=0):\n",
    "        self.galleons = galleons\n",
    "        self.sickles = sickles\n",
    "        self.knuts = knuts\n",
    "\n",
    "    def __str__(self):\n",
    "        return f\"This vault has {self.galleons} galleons, {self.sickles} sickles, and {self.knuts} knuts\"\n",
    "\n",
    "    def __add__(self, other):\n",
    "        galleons = self.galleons + other.galleons\n",
    "        sickles = self.sickles + other.sickles\n",
    "        knuts = self.knuts + other.knuts\n",
    "        return Vault(galleons, sickles, knuts)\n",
    "#We taught python what it means to add to things together. This can be done for all sorts of types \n",
    "#Can you add to different classes\n",
    "\n",
    "\n",
    "potter = Vault(100, 50, 25)\n",
    "print(potter)\n",
    "\n",
    "weasley = Vault(25, 50, 100)\n",
    "print(weasley)\n",
    "\n",
    "total = potter + weasley\n",
    "print(total)\n",
    "\n"
   ]
  }
 ],
 "metadata": {
  "kernelspec": {
   "display_name": "Python 3",
   "language": "python",
   "name": "python3"
  },
  "language_info": {
   "codemirror_mode": {
    "name": "ipython",
    "version": 3
   },
   "file_extension": ".py",
   "mimetype": "text/x-python",
   "name": "python",
   "nbconvert_exporter": "python",
   "pygments_lexer": "ipython3",
   "version": "3.11.9"
  }
 },
 "nbformat": 4,
 "nbformat_minor": 5
}
