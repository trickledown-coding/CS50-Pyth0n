{
 "cells": [
  {
   "cell_type": "code",
   "execution_count": 4,
   "id": "d48f8f2b",
   "metadata": {},
   "outputs": [
    {
     "name": "stdout",
     "output_type": "stream",
     "text": [
      "x squared is 25\n"
     ]
    }
   ],
   "source": [
    "def main():\n",
    "    x = int(input(\"Whats x: \"))\n",
    "    print(\"x squared is\", square(x))\n",
    "\n",
    "def square(n):\n",
    "    return n * n\n",
    "#Make sure when you import a square function make sure main is not\n",
    "#not automatically code\n",
    "if __name__ == \"__main\"\":\n",
    "    main()"
   ]
  },
  {
   "cell_type": "markdown",
   "id": "eaa750be",
   "metadata": {},
   "source": [
    "## First Test"
   ]
  },
  {
   "cell_type": "code",
   "execution_count": 6,
   "id": "40b213df",
   "metadata": {},
   "outputs": [
    {
     "name": "stdout",
     "output_type": "stream",
     "text": [
      "3 squared was not 9\n"
     ]
    }
   ],
   "source": [
    "from calculator import square\n",
    "\n",
    "def main():\n",
    "    test_square()\n",
    "\n",
    "def test_square():\n",
    "    if square(2) != 4:\n",
    "        print(\"2 squared was not 4\")\n",
    "    if square(3) != 9:\n",
    "        print(\"3 squared was not 9\")\n",
    "\n",
    "if __name__ ==  \"__main__\":\n",
    "    main()"
   ]
  },
  {
   "cell_type": "markdown",
   "id": "fb783d09",
   "metadata": {},
   "source": [
    "## Assertion"
   ]
  },
  {
   "cell_type": "code",
   "execution_count": 10,
   "id": "a95ed392",
   "metadata": {},
   "outputs": [
    {
     "name": "stdout",
     "output_type": "stream",
     "text": [
      "blah\n"
     ]
    }
   ],
   "source": [
    "from calculator import square\n",
    "\n",
    "def main():\n",
    "    test_square()\n",
    "\n",
    "def test_square():\n",
    "    try:\n",
    "        assert square(2) == 4\n",
    "    except AssertionError:\n",
    "        print(\"blah\")\n",
    "    try:\n",
    "        assert square(3) == 9\n",
    "    except AssertionError:\n",
    "        print(\"blah\")\n",
    "    try:\n",
    "        assert square(0) == 0\n",
    "    except AssertionError:\n",
    "        print(\"blah\")\n",
    "\n",
    "if __name__ == \"__main__\":\n",
    "    main()"
   ]
  },
  {
   "cell_type": "markdown",
   "id": "ab81a613",
   "metadata": {},
   "source": [
    "## PYTEST"
   ]
  },
  {
   "cell_type": "code",
   "execution_count": null,
   "id": "05ae61db",
   "metadata": {},
   "outputs": [],
   "source": [
    "from calculator import square\n",
    "\n",
    "def test_square():\n",
    "    assert square(2) == 4\n",
    "    assert square(3) == 9\n",
    "    assert square(-3) == 9\n",
    "    assert square(0) == 0"
   ]
  },
  {
   "cell_type": "markdown",
   "id": "e36eee65",
   "metadata": {},
   "source": [
    "## Seperate into multiple tests"
   ]
  },
  {
   "cell_type": "code",
   "execution_count": null,
   "id": "561f7a14",
   "metadata": {},
   "outputs": [],
   "source": [
    "from calculator import square\n",
    "\n",
    "def test_positive():\n",
    "    assert square(2) == 4\n",
    "    assert square(3) == 9\n",
    "\n",
    "def test_negative():\n",
    "    assert square(-3) == 9\n",
    "\n",
    "def test_zero():\n",
    "    assert square(0) == 0"
   ]
  },
  {
   "cell_type": "markdown",
   "id": "6460eb1d",
   "metadata": {},
   "source": [
    "## String Checks and Type errors\n"
   ]
  },
  {
   "cell_type": "code",
   "execution_count": null,
   "id": "80026a42",
   "metadata": {},
   "outputs": [],
   "source": [
    "def main():\n",
    "    x = input(\"Whats x: \")\n",
    "    print(\"x squared is\", square(x))\n",
    "\n",
    "def square(n):\n",
    "    return n * n\n",
    "#Make sure when you import a square function make sure main is not\n",
    "#not automatically code\n",
    "if __name__ == \"__main__\":\n",
    "    main()\n",
    "\n",
    "\n",
    "    #Raises a type error"
   ]
  },
  {
   "cell_type": "code",
   "execution_count": null,
   "id": "c2cb9b46",
   "metadata": {},
   "outputs": [],
   "source": [
    "from calculator import square\n",
    "import pytest\n",
    "\n",
    "def test_positive():\n",
    "    assert square(2) == 4\n",
    "    assert square(3) == 9\n",
    "\n",
    "def test_negative():\n",
    "    assert square(-3) == 9\n",
    "\n",
    "def test_zero():\n",
    "    assert square(0) == 0\n",
    "\n",
    "def test_str():\n",
    "    with pytest.raises(TypeError):\n",
    "        square(\"cat\")"
   ]
  },
  {
   "cell_type": "markdown",
   "id": "0141fc50",
   "metadata": {},
   "source": [
    "## Hello.py"
   ]
  },
  {
   "cell_type": "code",
   "execution_count": null,
   "id": "a5318c59",
   "metadata": {},
   "outputs": [],
   "source": [
    "def main():\n",
    "    name = input(\"Whats your name? \")\n",
    "    hello(name)\n",
    "\n",
    "def hello(to=\"world\"):\n",
    "    print(\"hello,\", to)\n",
    "\n",
    "if __name__ == \"__main__\":\n",
    "    main()"
   ]
  },
  {
   "cell_type": "markdown",
   "id": "77045a29",
   "metadata": {},
   "source": [
    "## Test Hello.py"
   ]
  },
  {
   "cell_type": "code",
   "execution_count": null,
   "id": "59f24153",
   "metadata": {},
   "outputs": [],
   "source": [
    "#note here that nothing is returned to hello function\n",
    "# so this will work differently to the square function\n",
    "\n",
    "from hello import hello\n",
    "\n",
    "\n",
    "def test_default():\n",
    "    assert hello() == \"hello, world\"\n",
    "    \n",
    "def test_argument():\n",
    "        assert hello(\"David\") == \"hello, David\"\n"
   ]
  },
  {
   "cell_type": "code",
   "execution_count": 13,
   "id": "a978f5fb",
   "metadata": {},
   "outputs": [
    {
     "name": "stdout",
     "output_type": "stream",
     "text": [
      "hello, David\n"
     ]
    }
   ],
   "source": [
    "#this version is more testable and is thus better practice\n",
    "#that is to return the string to the caller to handle the printing\n",
    "\n",
    "def main():\n",
    "    name = input(\"Whats your name? \")\n",
    "    print(hello(name))\n",
    "\n",
    "def hello(to=\"world\"):\n",
    "    return f\"hello, {to}\"\n",
    "\n",
    "if __name__ == \"__main__\":\n",
    "    main()"
   ]
  },
  {
   "cell_type": "markdown",
   "id": "32ed286f",
   "metadata": {},
   "source": [
    "## Looping Assertions"
   ]
  },
  {
   "cell_type": "code",
   "execution_count": null,
   "id": "66439c4d",
   "metadata": {},
   "outputs": [],
   "source": [
    "def test_argument():\n",
    "    for name in [\"Hermoine\", \"Harry\", \"Ron\"]:\n",
    "        assert hello(name) == f\"hello, {name}\""
   ]
  },
  {
   "cell_type": "markdown",
   "id": "f154b143",
   "metadata": {},
   "source": [
    "## Organize test into Multiple Folders"
   ]
  },
  {
   "cell_type": "markdown",
   "id": "3b2b1e75",
   "metadata": {},
   "source": [
    "## Packages\n",
    "- Python module organized inside of a folder\n",
    "- __init__.py tells python that its a package\n"
   ]
  }
 ],
 "metadata": {
  "kernelspec": {
   "display_name": "Python 3",
   "language": "python",
   "name": "python3"
  },
  "language_info": {
   "codemirror_mode": {
    "name": "ipython",
    "version": 3
   },
   "file_extension": ".py",
   "mimetype": "text/x-python",
   "name": "python",
   "nbconvert_exporter": "python",
   "pygments_lexer": "ipython3",
   "version": "3.11.9"
  }
 },
 "nbformat": 4,
 "nbformat_minor": 5
}
