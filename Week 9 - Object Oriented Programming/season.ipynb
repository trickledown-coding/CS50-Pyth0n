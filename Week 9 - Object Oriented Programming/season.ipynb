{
 "cells": [
  {
   "cell_type": "markdown",
   "id": "38180a05",
   "metadata": {},
   "source": [
    "## Code"
   ]
  },
  {
   "cell_type": "code",
   "execution_count": 26,
   "id": "3eb9bbeb",
   "metadata": {},
   "outputs": [
    {
     "name": "stdout",
     "output_type": "stream",
     "text": [
      "five hundred twenty-five thousand, six hundred minutes\n"
     ]
    }
   ],
   "source": [
    "from datetime import date\n",
    "import inflect\n",
    "\n",
    "\n",
    "def main():\n",
    "    try:\n",
    "        p = inflect.engine()\n",
    "\n",
    "        today = date.today()\n",
    "        b_day = date.fromisoformat(get_birthday(),)\n",
    "\n",
    "        days = today - b_day\n",
    "        minutes = ((days.days * 24) * 60)\n",
    "        print(f\"{p.number_to_words(minutes, andword ='')} minutes\")\n",
    "    except ValueError:\n",
    "        print(\"Invalid date: Must be YYYY-MM-DD\")\n",
    "\n",
    "\n",
    "def get_birthday():\n",
    "    return input(\"Birthdate: \")\n",
    "\n",
    "\n",
    "if __name__ == \"__main__\":\n",
    "    main()"
   ]
  },
  {
   "cell_type": "code",
   "execution_count": null,
   "id": "2f10d803",
   "metadata": {},
   "outputs": [],
   "source": []
  },
  {
   "cell_type": "markdown",
   "id": "9d3e9358",
   "metadata": {},
   "source": [
    "## TO DO"
   ]
  },
  {
   "cell_type": "markdown",
   "id": "9a959635",
   "metadata": {},
   "source": [
    "1. Prompt user for date in YYYY-MM-DD\n",
    "2. Return minutes since birth in words, rounded.\n",
    "3. Assume user was born at midnight and that the curernt time is midnight\n",
    "4. Ignore invalid input and dont raise any exceptions\n",
    "5. 1994-05-12\n"
   ]
  }
 ],
 "metadata": {
  "kernelspec": {
   "display_name": "Python 3",
   "language": "python",
   "name": "python3"
  },
  "language_info": {
   "codemirror_mode": {
    "name": "ipython",
    "version": 3
   },
   "file_extension": ".py",
   "mimetype": "text/x-python",
   "name": "python",
   "nbconvert_exporter": "python",
   "pygments_lexer": "ipython3",
   "version": "3.11.9"
  }
 },
 "nbformat": 4,
 "nbformat_minor": 5
}
